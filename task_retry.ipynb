{
 "cells": [
  {
   "cell_type": "code",
   "execution_count": null,
   "metadata": {},
   "outputs": [],
   "source": [
    "import pandas as pd\n",
    "import numpy as np\n",
    "import matplotlib as mpl\n",
    "import matplotlib.pyplot as plt\n",
    "import seaborn as sns"
   ]
  },
  {
   "cell_type": "code",
   "execution_count": null,
   "metadata": {},
   "outputs": [],
   "source": [
    "data_tasks = pd.read_csv('./data/mysql_table_tasks.csv')\n",
    "data_reg_reg = pd.read_csv('./data/mysql_table_regular_regular_type.csv')\n",
    "data_reg_types = pd.read_csv('./data/mysql_table_regular_types.csv')\n",
    "data_regs = pd.read_csv('./data/mysql_table_regulars.csv')\n",
    "\n",
    "data_tasks = pd.read_csv('./data/mysql_table_tasks.csv')\n",
    "data_tasks_stages = pd.read_csv('./data/mysql_table_task_stages.csv')\n",
    "data_tasks_transitions = pd.read_csv('./data/mysql_table_task_transitions.csv')\n",
    "data_tasks_user = pd.read_csv('./data/mysql_table_task_user.csv')"
   ]
  },
  {
   "cell_type": "code",
   "execution_count": null,
   "metadata": {},
   "outputs": [],
   "source": [
    "task_table = data_tasks[data_tasks['account_id'] == 1]"
   ]
  },
  {
   "cell_type": "code",
   "execution_count": null,
   "metadata": {},
   "outputs": [],
   "source": [
    "task_table"
   ]
  },
  {
   "cell_type": "code",
   "execution_count": null,
   "metadata": {},
   "outputs": [],
   "source": [
    "id_retry_list = data_tasks_stages[data_tasks_stages['title'] == 'Возвращена на доработку']['id'].unique()\n",
    "task_trans_account = data_tasks_transitions.merge(task_table, left_on='task_id', right_on='id')"
   ]
  },
  {
   "cell_type": "code",
   "execution_count": null,
   "metadata": {},
   "outputs": [],
   "source": [
    "len_retry_task_account = len(task_trans_account[task_trans_account['task_stage_id'].isin(id_retry_list)])\n",
    "len_all_task_account = len(task_table)"
   ]
  },
  {
   "cell_type": "code",
   "execution_count": null,
   "metadata": {},
   "outputs": [],
   "source": [
    "fraction_retry_task = f'{int(round(len_retry_task_account / len_all_task_account, 4) * 100)}%'"
   ]
  },
  {
   "cell_type": "code",
   "execution_count": null,
   "metadata": {},
   "outputs": [],
   "source": [
    "fraction_retry_task"
   ]
  },
  {
   "cell_type": "markdown",
   "metadata": {},
   "source": [
    "# !!!Backend"
   ]
  },
  {
   "cell_type": "code",
   "execution_count": null,
   "metadata": {},
   "outputs": [],
   "source": [
    "table_top_task_retry = task_trans_account[task_trans_account['task_stage_id'].isin(id_retry_list)][['task_id', 'description']].value_counts()"
   ]
  },
  {
   "cell_type": "code",
   "execution_count": null,
   "metadata": {},
   "outputs": [],
   "source": [
    "def autopct_format(values):\n",
    "    def my_format(pct):\n",
    "        total = sum(values)\n",
    "        val = int(round(pct*total/100.0))\n",
    "        return '{v:d}'.format(v=val)\n",
    "    return my_format\n",
    "\n",
    "NUM_SYM = 100\n",
    "\n",
    "plt.figure(figsize=(20, 7))\n",
    "table_top_task_retry = pd.DataFrame(table_top_task_retry)\n",
    "\n",
    "pie_shares = list(table_top_task_retry.to_dict()[0].values())[:5]\n",
    "positions = list(table_top_task_retry.to_dict()[0].keys())[:5]\n",
    "\n",
    "new_positions = []\n",
    "for idx, i in enumerate(positions):\n",
    "    new_word = i[1]\n",
    "    if len(i[1]) > NUM_SYM:\n",
    "        new_word = i[1][:NUM_SYM] + '\\n' + i[1][NUM_SYM:]\n",
    "        \n",
    "    new_positions.append(new_word)\n",
    "\n",
    "plt.pie(pie_shares, labels=new_positions, autopct=autopct_format(pie_shares))\n",
    "plt.title('Задачи, которые отправились на доработку более 2-х раз')\n",
    "plt.savefig(f'./results/all_task_retry.jpg', dpi=300)"
   ]
  },
  {
   "cell_type": "markdown",
   "metadata": {},
   "source": [
    "# Комплексная оценка: fraction_retry_task - доля вернувшихся задач\n",
    "\n",
    "all_task_retry - диаграмма задач вернувшихся более 2-х раз"
   ]
  }
 ],
 "metadata": {
  "kernelspec": {
   "display_name": "base",
   "language": "python",
   "name": "python3"
  },
  "language_info": {
   "codemirror_mode": {
    "name": "ipython",
    "version": 3
   },
   "file_extension": ".py",
   "mimetype": "text/x-python",
   "name": "python",
   "nbconvert_exporter": "python",
   "pygments_lexer": "ipython3",
   "version": "3.9.7"
  }
 },
 "nbformat": 4,
 "nbformat_minor": 2
}
