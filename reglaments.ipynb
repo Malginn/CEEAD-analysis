{
 "cells": [
  {
   "cell_type": "code",
   "execution_count": null,
   "metadata": {},
   "outputs": [],
   "source": [
    "import pandas as pd\n",
    "import numpy as np\n",
    "import matplotlib as mpl\n",
    "import matplotlib.pyplot as plt\n",
    "import seaborn as sns"
   ]
  },
  {
   "cell_type": "code",
   "execution_count": null,
   "metadata": {},
   "outputs": [],
   "source": [
    "data_tasks = pd.read_csv('./data/mysql_table_tasks.csv')\n",
    "data_reg_reg = pd.read_csv('./data/mysql_table_regular_regular_type.csv')\n",
    "data_reg_types = pd.read_csv('./data/mysql_table_regular_types.csv')\n",
    "data_regs = pd.read_csv('./data/mysql_table_regulars.csv')\n",
    "\n",
    "data_tasks = pd.read_csv('./data/mysql_table_tasks.csv')\n",
    "data_tasks_stages = pd.read_csv('./data/mysql_table_task_stages.csv')\n",
    "data_tasks_transitions = pd.read_csv('./data/mysql_table_task_transitions.csv')\n",
    "data_tasks_user = pd.read_csv('./data/mysql_table_task_user.csv')"
   ]
  },
  {
   "cell_type": "code",
   "execution_count": null,
   "metadata": {},
   "outputs": [],
   "source": [
    "data_tasks.taskable_type.unique()"
   ]
  },
  {
   "cell_type": "code",
   "execution_count": null,
   "metadata": {},
   "outputs": [],
   "source": [
    "task_reg_table = data_tasks[data_tasks['taskable_type'] == 'App\\\\Models\\\\ServiceDesk\\\\Regular']"
   ]
  },
  {
   "cell_type": "code",
   "execution_count": null,
   "metadata": {},
   "outputs": [],
   "source": [
    "task_reg_table"
   ]
  },
  {
   "cell_type": "code",
   "execution_count": null,
   "metadata": {},
   "outputs": [],
   "source": [
    "data_regs_merge = task_reg_table.merge(data_reg_reg, left_on='taskable_id', right_on='regular_id')"
   ]
  },
  {
   "cell_type": "code",
   "execution_count": null,
   "metadata": {},
   "outputs": [],
   "source": [
    "data_regs_merge"
   ]
  },
  {
   "cell_type": "code",
   "execution_count": null,
   "metadata": {},
   "outputs": [],
   "source": [
    "data_reg_reg"
   ]
  },
  {
   "cell_type": "code",
   "execution_count": null,
   "metadata": {},
   "outputs": [],
   "source": [
    "data_reg_types['account_id']"
   ]
  },
  {
   "cell_type": "markdown",
   "metadata": {},
   "source": [
    "# Считаем среднее квадратичное отклонение по времени"
   ]
  },
  {
   "cell_type": "code",
   "execution_count": null,
   "metadata": {},
   "outputs": [],
   "source": [
    "transitions_success = data_tasks_transitions[data_tasks_transitions['task_stage_id'] == 3]"
   ]
  },
  {
   "cell_type": "code",
   "execution_count": null,
   "metadata": {},
   "outputs": [],
   "source": [
    "task_success_merged = task_reg_table.merge(transitions_success, left_on='taskable_id', right_on='task_id')"
   ]
  },
  {
   "cell_type": "code",
   "execution_count": null,
   "metadata": {},
   "outputs": [],
   "source": [
    "task_success_merged"
   ]
  },
  {
   "cell_type": "code",
   "execution_count": null,
   "metadata": {},
   "outputs": [],
   "source": [
    "task_success_merged['delta_time'] = pd.to_datetime(task_success_merged['transitioned_at']) - pd.to_datetime(task_success_merged['deadline_at'])"
   ]
  },
  {
   "cell_type": "code",
   "execution_count": null,
   "metadata": {},
   "outputs": [],
   "source": [
    "task_success_merged['delta_time_days'] = task_success_merged['delta_time'].dt.total_seconds() /60 /60 /24"
   ]
  },
  {
   "cell_type": "code",
   "execution_count": null,
   "metadata": {},
   "outputs": [],
   "source": [
    "np.mean(task_success_merged[task_success_merged['delta_time_days'] < 0]['delta_time_days'])"
   ]
  },
  {
   "cell_type": "markdown",
   "metadata": {},
   "source": [
    "# Для BACKEND!!!!!!!!!!!!"
   ]
  },
  {
   "cell_type": "code",
   "execution_count": null,
   "metadata": {},
   "outputs": [],
   "source": [
    "#насколько в среднем просрачиваются регламентные работы\n",
    "mean_dead = [np.mean(task_success_merged[task_success_merged['delta_time_days'] < 0]['delta_time_days'][data_tasks['account_id'] == i]) for i in (1,2)]\n",
    "\n",
    "#по всем дедлайная медианное значение\n",
    "mean_all = [np.mean(task_success_merged['delta_time_days'][data_tasks['account_id'] == i]) for i in (1,2)]"
   ]
  },
  {
   "cell_type": "code",
   "execution_count": null,
   "metadata": {},
   "outputs": [],
   "source": [
    "mean_dead"
   ]
  },
  {
   "cell_type": "code",
   "execution_count": null,
   "metadata": {},
   "outputs": [],
   "source": [
    "# matplotlib histogram\n",
    "plt.figure(figsize=(8, 4))\n",
    "plt.hist(task_success_merged['delta_time_days'], color = 'blue', edgecolor = 'black',\n",
    "         bins = int(180/5))\n",
    "\n",
    "# seaborn histogram\n",
    "sns.distplot(task_success_merged['delta_time_days'], hist=True, kde=False, \n",
    "             bins=int(180/5), color = 'blue',\n",
    "             hist_kws={'edgecolor':'black'})\n",
    "# Add labels\n",
    "plt.title('График отклонений регламентных работ от дедлайнов')\n",
    "plt.xlabel('Количество дней')\n",
    "plt.ylabel('Частота')\n",
    "\n",
    "# plt.legend()\n",
    "plt.tight_layout()\n",
    "plt.savefig('./results/reglaments_chast.jpg', dpi=1200)\n",
    "\n",
    "# plt.show()"
   ]
  }
 ],
 "metadata": {
  "kernelspec": {
   "display_name": "base",
   "language": "python",
   "name": "python3"
  },
  "language_info": {
   "codemirror_mode": {
    "name": "ipython",
    "version": 3
   },
   "file_extension": ".py",
   "mimetype": "text/x-python",
   "name": "python",
   "nbconvert_exporter": "python",
   "pygments_lexer": "ipython3",
   "version": "3.9.7"
  }
 },
 "nbformat": 4,
 "nbformat_minor": 2
}
