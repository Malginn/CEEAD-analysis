{
 "cells": [
  {
   "cell_type": "markdown",
   "metadata": {},
   "source": [
    "# Оценка скорости закрытия \n",
    "\n",
    "- Можно взять общее время затраченное на решение всех инцидентов как t, общщее количестов инцидентов, как n и посчитать количество инцидинетов в среднем решаемых за день `inc_speed = n/t`"
   ]
  },
  {
   "cell_type": "code",
   "execution_count": null,
   "metadata": {},
   "outputs": [],
   "source": [
    "import pandas as pd\n",
    "import numpy as np\n",
    "import matplotlib.pyplot as plt\n",
    "\n",
    "ACCOUNT_ID = 1"
   ]
  },
  {
   "cell_type": "markdown",
   "metadata": {},
   "source": [
    "### Загружаем нужные нам таблицы"
   ]
  },
  {
   "cell_type": "code",
   "execution_count": null,
   "metadata": {},
   "outputs": [],
   "source": [
    "data_inc = pd.read_csv('./data/mysql_table_incidents.csv')\n",
    "data_inc_types = pd.read_csv('./data/mysql_table_incident_types.csv')"
   ]
  },
  {
   "cell_type": "markdown",
   "metadata": {},
   "source": [
    "### Фильтруем по нужным нам 1 или 2 аккаунту"
   ]
  },
  {
   "cell_type": "code",
   "execution_count": null,
   "metadata": {},
   "outputs": [],
   "source": [
    "data_query_inc = data_inc[(data_inc['account_id'] == ACCOUNT_ID)]    # | (data_inc['account_id'] == 2)"
   ]
  },
  {
   "cell_type": "code",
   "execution_count": null,
   "metadata": {},
   "outputs": [],
   "source": [
    "#берем только закрытые инциденты\n",
    "data_query_inc_closed = data_query_inc[(data_query_inc['closed_at'].isna() == False)]"
   ]
  },
  {
   "cell_type": "markdown",
   "metadata": {},
   "source": [
    "### Хватает ли у нас данных для расчета среднего времени по отделным типам инцедентов?"
   ]
  },
  {
   "cell_type": "code",
   "execution_count": null,
   "metadata": {},
   "outputs": [],
   "source": [
    "data_query_inc_closed['incident_type_id'].value_counts()\n",
    "#Делаем топ-5 инцедентов и по ним считаем среднюю оценку закрытия"
   ]
  },
  {
   "cell_type": "code",
   "execution_count": null,
   "metadata": {},
   "outputs": [],
   "source": [
    "data_query_inc_closed['incident_type_id'].value_counts().keys()[:5]"
   ]
  },
  {
   "cell_type": "code",
   "execution_count": null,
   "metadata": {},
   "outputs": [],
   "source": [
    "#расчёт времени, затраченного на решение инцидентов,\n",
    "data_query_inc_closed['close_time'] = pd.to_datetime(data_query_inc_closed['closed_at']) - pd.to_datetime(data_query_inc_closed['created_at'])"
   ]
  },
  {
   "cell_type": "markdown",
   "metadata": {},
   "source": [
    "### Расчёт среднего и медианного значений закрытия времени инцидентов у"
   ]
  },
  {
   "cell_type": "code",
   "execution_count": null,
   "metadata": {},
   "outputs": [],
   "source": [
    "all_average = data_query_inc_closed['close_time'].mean()\n",
    "all_median = data_query_inc_closed['close_time'].median()\n",
    "\n",
    "stats_days_med = all_median.total_seconds() /60 /60 /24\n",
    "stats_days_aver = all_average.total_seconds() /60 /60 /24\n",
    "\n",
    "all_inc_dict = {\n",
    "    'median': round(stats_days_med, 2),\n",
    "    'mean': round(stats_days_aver, 2)\n",
    "}"
   ]
  },
  {
   "cell_type": "markdown",
   "metadata": {},
   "source": [
    "# Для BACKEND!!!!!!!!!!!!!!!!!!!!!!"
   ]
  },
  {
   "cell_type": "code",
   "execution_count": null,
   "metadata": {},
   "outputs": [],
   "source": [
    "all_inc_dict"
   ]
  },
  {
   "cell_type": "markdown",
   "metadata": {},
   "source": [
    "# Считаем среднее и медианное по каждому из топ-5 инцидентов"
   ]
  },
  {
   "cell_type": "code",
   "execution_count": null,
   "metadata": {},
   "outputs": [],
   "source": [
    "data_query_inc_closed['delta_days'] = data_query_inc_closed['close_time'].dt.total_seconds() /60 /60 /24\n",
    "\n",
    "dict_inc_means = data_query_inc_closed.groupby(['incident_type_id']).mean()['delta_days']\n",
    "dict_inc_medians = data_query_inc_closed.groupby(['incident_type_id']).median()['delta_days']"
   ]
  },
  {
   "cell_type": "code",
   "execution_count": null,
   "metadata": {},
   "outputs": [],
   "source": [
    "TOP_NUM = len(data_query_inc.incident_type_id.unique())\n",
    "\n",
    "top_types_id = data_query_inc_closed['incident_type_id'].value_counts().keys()[:TOP_NUM]\n",
    "column_title = []\n",
    "top_dict_means = {}\n",
    "top_dict_medians = {}\n",
    "\n",
    "for idx in top_types_id:\n",
    "    string = data_inc_types[data_inc_types['id'] == idx].title\n",
    "    string = string.to_string().split('    ')[1]\n",
    "    column_title.append(string)\n",
    "\n",
    "    top_dict_means[string] = round(dict_inc_means.get(idx), 2)\n",
    "    top_dict_medians[string] = round(dict_inc_medians.get(idx), 2)"
   ]
  },
  {
   "cell_type": "markdown",
   "metadata": {},
   "source": [
    "# Для BACKEND!!!!!!!!!!!!!!!!!"
   ]
  },
  {
   "cell_type": "code",
   "execution_count": null,
   "metadata": {},
   "outputs": [],
   "source": [
    "top_dict_means"
   ]
  },
  {
   "cell_type": "code",
   "execution_count": null,
   "metadata": {},
   "outputs": [],
   "source": [
    "top_dict_medians"
   ]
  },
  {
   "cell_type": "markdown",
   "metadata": {},
   "source": [
    "# Переходим к визуализации результатов"
   ]
  },
  {
   "cell_type": "code",
   "execution_count": null,
   "metadata": {},
   "outputs": [],
   "source": [
    "y = list(top_dict_means.keys())\n",
    "x = list(top_dict_means.values())\n",
    "plt.figure(figsize=(15, 7))\n",
    "\n",
    "plt.title(f'Затраченное время на решение инцидентов')\n",
    "plt.xticks(np.arange(round(min(x)), round(max(x)) + 1, step=10))\n",
    "plt.grid()\n",
    "plt.xlabel('Количество дней, затраченных на решение инцидента')\n",
    "plt.ylabel('Тип инцидента', color='white')\n",
    "plt.barh(y, x, alpha=0.5, label='Среднее затраченное время')\n",
    "plt.axvline(all_inc_dict['mean'], color='green', linewidth=4, label=f'Среднее время решения среди всех инцидентов:{all_inc_dict.get(\"mean\")}')\n",
    "\n",
    "y_new = list(top_dict_medians.keys())\n",
    "x_new = list(top_dict_medians.values())\n",
    "\n",
    "plt.barh(y_new, x_new, color='orange', alpha=0.5, label='Медианное затраченное время')\n",
    "plt.axvline(all_inc_dict['median'], color='red', linewidth=4, label=f'Медианное время решения среди всех инцидентов:{all_inc_dict.get(\"median\")}')\n",
    "plt.legend()\n",
    "plt.tight_layout()\n",
    "plt.savefig('./results/median_mean_inc.jpg', dpi=1200)\n",
    "\n",
    "plt.show()"
   ]
  },
  {
   "cell_type": "code",
   "execution_count": null,
   "metadata": {},
   "outputs": [],
   "source": [
    "time = data_query_inc_closed['delta_days'].sum()\n",
    "num_inc = data_query_inc_closed.size\n",
    "\n",
    "inc_per_day = round(num_inc / time, 2)"
   ]
  },
  {
   "cell_type": "code",
   "execution_count": null,
   "metadata": {},
   "outputs": [],
   "source": [
    "inc_per_day"
   ]
  },
  {
   "cell_type": "markdown",
   "metadata": {},
   "source": [
    "# Комплексная оценка: inc_per_day = инцедентов/день\n",
    "\n",
    "top_dict_means, top_dict_medians = затраченное время на решение инцидентов каждого типа"
   ]
  }
 ],
 "metadata": {
  "kernelspec": {
   "display_name": "base",
   "language": "python",
   "name": "python3"
  },
  "language_info": {
   "codemirror_mode": {
    "name": "ipython",
    "version": 3
   },
   "file_extension": ".py",
   "mimetype": "text/x-python",
   "name": "python",
   "nbconvert_exporter": "python",
   "pygments_lexer": "ipython3",
   "version": "3.9.7"
  }
 },
 "nbformat": 4,
 "nbformat_minor": 2
}
