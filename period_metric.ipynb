{
 "cells": [
  {
   "cell_type": "code",
   "execution_count": null,
   "metadata": {},
   "outputs": [],
   "source": [
    "import pandas as pd\n",
    "import numpy as np\n",
    "import matplotlib as mpl\n",
    "import matplotlib.pyplot as plt\n",
    "import seaborn as sns"
   ]
  },
  {
   "cell_type": "code",
   "execution_count": null,
   "metadata": {},
   "outputs": [],
   "source": [
    "dic = {'ТО ежемесячное Метео': {'probably': 3456, 'count': 4703},\n",
    " 'ТО ежемесячное Видео': {'probably': 5712, 'count': 6819},\n",
    " 'ТО квартальное Метео': {'probably': 1092, 'count': 1075},\n",
    " 'ТО квартальное Видео': {'probably': 1824, 'count': 1656},\n",
    " 'ТО полугодовое Метео': {'probably': 484, 'count': 711},\n",
    " 'ТО полугодовое Видео': {'probably': 800, 'count': 1043},\n",
    " 'ТО ежемесячное ПУИД': {'probably': 3192, 'count': 3674},\n",
    " 'ТО квартальное ПУИД': {'probably': 996, 'count': 917},\n",
    " 'ТО полугодовое ПУИД': {'probably': 450, 'count': 597},\n",
    " 'Снятие показаний с АДМС': {'probably': 96, 'count': 8},\n",
    " 'ТО ежемесячное Т.7': {'probably': 4140, 'count': 5688},\n",
    " 'ТО полугодовое Т.7': {'probably': 680, 'count': 916},\n",
    " 'ТО ежемесячное ТПИ\\\\/ЗПИ': {'probably': 456, 'count': 717},\n",
    " 'ТО квартальное ТПИ\\\\/ЗПИ': {'probably': 112, 'count': 170},\n",
    " 'ТО полугодовое ТПИ\\\\/ЗПИ': {'probably': 54, 'count': 113},\n",
    " 'Снятие показаний с ПВК': {'probably': 108, 'count': 9},\n",
    " 'ТО ежемесячное АОС': {'probably': 4164, 'count': 4720},\n",
    " 'ТО квартальное АОС': {'probably': 1364, 'count': 1480},\n",
    " 'ТО полугодовое АОС': {'probably': 670, 'count': 893},\n",
    " 'ТО ежемесячное Светофор': {'probably': 708, 'count': 837},\n",
    " 'ТО квартальное Светофор': {'probably': 228, 'count': 225},\n",
    " 'ТО полугодовое Светофор': {'probably': 112, 'count': 168},\n",
    " 'ТО ежемесячное Гобо': {'probably': 36, 'count': 83},\n",
    " 'Снятие показаний со светофора': {'probably': 12, 'count': 2},\n",
    " 'ТО ежемесячное ЭЗС': {'probably': 12, 'count': 2},\n",
    " 'ТО ежемесячное измеритель уровня воды': {'probably': 12, 'count': 5},\n",
    " 'ВСТРЕЧА С ЗАКАЗЧИКОМ': {'probably': 12, 'count': 74},\n",
    " 'ЗАПОЛНЕНИЕ ЖУРНАЛОВ, РАБОТА С ДОКУМЕНТАМИ': {'probably': 12, 'count': 127},\n",
    " 'ТО имитация ДПС': {'probably': 12, 'count': 1}}"
   ]
  },
  {
   "cell_type": "markdown",
   "metadata": {},
   "source": [
    "# метрика - процент выполненных регламентных работ в разрезе год(перевыполенные берем за 100%)"
   ]
  },
  {
   "cell_type": "code",
   "execution_count": null,
   "metadata": {},
   "outputs": [],
   "source": [
    "new_dic = {}\n",
    "probs = []\n",
    "counts = []\n",
    "for key, value in dic.items():\n",
    "    # print(key, value)\n",
    "    for new_key, new_value in value.items():\n",
    "        if new_key == 'probably':\n",
    "            probs.append(new_value)\n",
    "        else:\n",
    "            counts.append(new_value)\n",
    "\n",
    "\n",
    "precentege = []\n",
    "for i in np.array(counts) / np.array(probs):\n",
    "    if i > 1:\n",
    "        precentege.append(1)\n",
    "    else:\n",
    "        precentege.append(i)\n",
    "\n",
    "precentege_true = []\n",
    "for i in np.array(counts) / np.array(probs):\n",
    "        precentege_true.append(i)\n",
    " \n",
    "prec_result = round(np.array(precentege).mean(), 2) * 100\n",
    "\n",
    "def create_dic(keys, values):\n",
    "    return dict (zip (keys, values) )\n",
    "\n",
    "keys = dic.keys()\n",
    "values = precentege_true\n",
    "formatted_values = [ '%.2f' % (elem * 100)  for elem in values ]\n",
    "\n",
    "dic_to_draw_table = create_dic(keys, formatted_values)"
   ]
  },
  {
   "cell_type": "code",
   "execution_count": null,
   "metadata": {},
   "outputs": [],
   "source": [
    "prec_result"
   ]
  },
  {
   "cell_type": "code",
   "execution_count": null,
   "metadata": {},
   "outputs": [],
   "source": [
    "dic_to_draw_table"
   ]
  },
  {
   "cell_type": "markdown",
   "metadata": {},
   "source": [
    "# Комплексная оценка: mean_all, prec_result\n",
    "\n",
    "соответсвтенно, среднее значение дней отклонений от дедлайна(с учетом дней, когда выполнили задачу раньше)\n",
    "\n",
    "процент выполненной нормы регламентных работ за год\n",
    "\n",
    "reglaments_chast.jpg - график проебанных дедлайнов\n",
    "mean_dead - среднее количество дней среди просроченных \n",
    "mean_all - среднее количество дней среди всех задач(учитывая задачи, которые могли выполниться раньше дедлайна)"
   ]
  },
  {
   "cell_type": "code",
   "execution_count": null,
   "metadata": {},
   "outputs": [],
   "source": []
  }
 ],
 "metadata": {
  "kernelspec": {
   "display_name": "base",
   "language": "python",
   "name": "python3"
  },
  "language_info": {
   "codemirror_mode": {
    "name": "ipython",
    "version": 3
   },
   "file_extension": ".py",
   "mimetype": "text/x-python",
   "name": "python",
   "nbconvert_exporter": "python",
   "pygments_lexer": "ipython3",
   "version": "3.9.7"
  }
 },
 "nbformat": 4,
 "nbformat_minor": 2
}
