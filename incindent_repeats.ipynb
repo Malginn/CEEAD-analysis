{
 "cells": [
  {
   "cell_type": "code",
   "execution_count": null,
   "metadata": {},
   "outputs": [],
   "source": [
    "import pandas as pd\n",
    "import numpy as np\n",
    "import matplotlib.pyplot as plt\n",
    "import seaborn as sns"
   ]
  },
  {
   "cell_type": "code",
   "execution_count": null,
   "metadata": {},
   "outputs": [],
   "source": [
    "data_tasks = pd.read_csv('./data/mysql_table_tasks.csv')\n",
    "data_inc = pd.read_csv('./data/mysql_table_incidents.csv')\n",
    "data_inc_types = pd.read_csv('./data/mysql_table_incident_types.csv')\n",
    "\n",
    "data_tasks = pd.read_csv('./data/mysql_table_tasks.csv')\n",
    "data_tasks_stages = pd.read_csv('./data/mysql_table_task_stages.csv')\n",
    "data_tasks_transitions = pd.read_csv('./data/mysql_table_task_transitions.csv')\n",
    "data_tasks_user = pd.read_csv('./data/mysql_table_task_user.csv')"
   ]
  },
  {
   "cell_type": "code",
   "execution_count": null,
   "metadata": {},
   "outputs": [],
   "source": [
    "data_query_inc = data_inc[(data_inc['account_id'] == 2)]    # | (data_inc['account_id'] == 2)\n",
    "#берем только закрытые инциденты\n",
    "data_query_inc_closed = data_query_inc[(data_query_inc['closed_at'].isna() == False)]"
   ]
  },
  {
   "cell_type": "code",
   "execution_count": null,
   "metadata": {},
   "outputs": [],
   "source": [
    "data_query_merged_title = data_query_inc.merge(data_inc_types, left_on='incident_type_id', right_on='id')"
   ]
  },
  {
   "cell_type": "markdown",
   "metadata": {},
   "source": [
    "# Нужно сделать срез по подразеделниям и группировку по объектам и в разрезе подразеделений оценить каждый объект на `data_query_merged_title['title'].value_counts()` + failure type для этих задач тоже value_counts()"
   ]
  },
  {
   "cell_type": "code",
   "execution_count": null,
   "metadata": {},
   "outputs": [],
   "source": [
    "data_division = pd.read_csv('./data/mysql_table_divisions.csv')\n",
    "data_division[data_division['account_id'] == 2]"
   ]
  },
  {
   "cell_type": "code",
   "execution_count": null,
   "metadata": {},
   "outputs": [],
   "source": [
    "data_task_user = pd.read_csv('./data/mysql_table_task_user.csv')\n",
    "# data_task_to_divisions = pd.read_csv('./data/mysql_table_users.csv')\n",
    "\n",
    "data_users = pd.read_csv('./data/mysql_table_users.csv')\n",
    "join_object = pd.read_csv('./data/mysql_table_service_object_task.csv')\n",
    "data_objects = pd.read_csv('./data/mysql_table_service_objects.csv')"
   ]
  },
  {
   "cell_type": "code",
   "execution_count": null,
   "metadata": {},
   "outputs": [],
   "source": [
    "data_users_id = data_tasks[data_tasks['account_id'] == 1]\n",
    "data_task_users_id_merged = data_tasks.merge(data_task_user, left_on='id', right_on='task_id')\n",
    "data_task_users_merged = data_task_users_id_merged.merge(data_users, left_on='user_id', right_on='id')"
   ]
  },
  {
   "cell_type": "code",
   "execution_count": null,
   "metadata": {},
   "outputs": [],
   "source": [
    "data_task_divisions = data_task_users_merged.merge(data_division, left_on='division_id', right_on='id')"
   ]
  },
  {
   "cell_type": "code",
   "execution_count": null,
   "metadata": {},
   "outputs": [],
   "source": [
    "data_task_divisions.columns"
   ]
  },
  {
   "cell_type": "code",
   "execution_count": null,
   "metadata": {},
   "outputs": [],
   "source": [
    "data_task_join_div_obj = data_task_divisions.merge(join_object, left_on='id_x', right_on='task_id')"
   ]
  },
  {
   "cell_type": "code",
   "execution_count": null,
   "metadata": {},
   "outputs": [],
   "source": [
    "data_task_join_div_obj"
   ]
  },
  {
   "cell_type": "code",
   "execution_count": null,
   "metadata": {},
   "outputs": [],
   "source": [
    "data_task_join_div_obj = data_task_join_div_obj[data_task_join_div_obj['taskable_type'] == 'App\\Models\\ServiceDesk\\Incident']\n",
    "data_task_join_div_obj.columns"
   ]
  },
  {
   "cell_type": "code",
   "execution_count": null,
   "metadata": {},
   "outputs": [],
   "source": [
    "data_div_obj_finally = data_task_join_div_obj.merge(data_objects, left_on='service_object_id', right_on='id')"
   ]
  },
  {
   "cell_type": "code",
   "execution_count": null,
   "metadata": {},
   "outputs": [],
   "source": [
    "data_div_obj_finally.columns"
   ]
  },
  {
   "cell_type": "code",
   "execution_count": null,
   "metadata": {},
   "outputs": [],
   "source": [
    "data_clear_divobj = data_div_obj_finally.drop(['assigner_id', 'assignable_type', 'assignable_id', 'description', 'deadline_at', 'deleted_at_x', 'created_at_x', 'updated_at_x', 'name','email', 'phone', 'settings', 'email_verified_at', 'password', 'uses_personal_transport', 'remember_token', 'deleted_at_y', 'created_at_y', 'updated_at_y', 'is_supervisor', 'location', 'deleted_at_x', 'created_at_x', 'updated_at_x', 'account_id_y', 'is_demounted', 'deleted_at_y', 'created_at_y', 'updated_at_y'], axis=1)"
   ]
  },
  {
   "cell_type": "code",
   "execution_count": null,
   "metadata": {},
   "outputs": [],
   "source": [
    "# data_clear_divobj.drop(['id_x'], axis=1, inplace=True)\n",
    "# data_clear_divobj.drop(['account_id_x'], axis=1, inplace=True)"
   ]
  },
  {
   "cell_type": "code",
   "execution_count": null,
   "metadata": {},
   "outputs": [],
   "source": [
    "data_clear_divobj = data_clear_divobj.merge(data_query_inc, left_on='taskable_id', right_on='id')\n",
    "data_clear_divobj = data_clear_divobj.merge(data_inc_types, left_on='incident_type_id', right_on='id')"
   ]
  },
  {
   "cell_type": "code",
   "execution_count": null,
   "metadata": {},
   "outputs": [],
   "source": [
    "data_clear_divobj"
   ]
  },
  {
   "cell_type": "code",
   "execution_count": null,
   "metadata": {},
   "outputs": [],
   "source": [
    "data_clear_divobj.columns"
   ]
  },
  {
   "cell_type": "code",
   "execution_count": null,
   "metadata": {},
   "outputs": [],
   "source": [
    "data_clear_divobj['title_x'].unique()"
   ]
  },
  {
   "cell_type": "code",
   "execution_count": null,
   "metadata": {},
   "outputs": [],
   "source": [
    "data_clear_divobj['title']"
   ]
  },
  {
   "cell_type": "markdown",
   "metadata": {},
   "source": [
    "### - Убрать полное отсутсвтие данных чтобы было адекват значение инцидентов\n",
    "\n",
    "### - Указать числа для каждого инцидента\n",
    "\n",
    "### -  анонимизация"
   ]
  },
  {
   "cell_type": "code",
   "execution_count": null,
   "metadata": {},
   "outputs": [],
   "source": [
    "data_pie = data_clear_divobj[data_clear_divobj['title_x'] == 'Голубкин']['title'].value_counts()"
   ]
  },
  {
   "cell_type": "code",
   "execution_count": null,
   "metadata": {},
   "outputs": [],
   "source": [
    "def autopct_format(values):\n",
    "    def my_format(pct):\n",
    "        total = sum(values)\n",
    "        val = int(round(pct*total/100.0))\n",
    "        return '{v:d}'.format(v=val)\n",
    "    return my_format\n",
    "\n",
    "data_to_print = {}\n",
    "for idx, i in enumerate(data_clear_divobj.title_x.unique()):\n",
    "    plt.figure(figsize=(12, 7))\n",
    "    plt.title(f'Частота повторений инцидента у Пользователь № {idx + 1}')\n",
    "    data_pie = pd.DataFrame(data_clear_divobj[data_clear_divobj['title_x'] == i]['title'].value_counts())\n",
    "    data_pie = data_pie[data_pie.values < (sum(data_pie.values) / 2)]\n",
    "    data_to_print[idx] = data_pie[data_pie.values >= (sum(data_pie.values) / 2)]\n",
    "    pie_shares = list(data_pie.to_dict()['title'].values())\n",
    "    positions = list(data_pie.to_dict()['title'].keys())\n",
    "    plt.pie(pie_shares, labels=positions, autopct=autopct_format(pie_shares))\n",
    "    plt.savefig(f'./results/pie_top_user{idx}.jpg', dpi=300)"
   ]
  },
  {
   "cell_type": "code",
   "execution_count": null,
   "metadata": {},
   "outputs": [],
   "source": [
    "data_print_all_repeat_inc = []\n",
    "\n",
    "plt.figure(figsize=(12, 7))\n",
    "plt.title('Частота повторений инцидентов у Account_id = 1')\n",
    "data_barh = pd.DataFrame(data_query_merged_title['title'].value_counts())\n",
    "data_print_all_repeat_inc.append(data_barh[data_barh.values >= sum(data_barh.values) / 2])\n",
    "data_to_draw = data_barh[data_barh.values < sum(data_barh.values) / 2].copy()\n",
    "\n",
    "pie_shares = list(data_to_draw.to_dict()['title'].values())[:5]\n",
    "positions = list(data_to_draw.to_dict()['title'].keys())[:5]\n",
    "plt.pie(pie_shares, labels=positions, autopct=autopct_format(pie_shares))\n",
    "plt.savefig(f'./results/all_repeat_inc.jpg', dpi=300)"
   ]
  },
  {
   "cell_type": "code",
   "execution_count": null,
   "metadata": {},
   "outputs": [],
   "source": [
    "#Для Никиты!!!!!!!!!!!!\n",
    "data_print_all_repeat_inc"
   ]
  },
  {
   "cell_type": "markdown",
   "metadata": {},
   "source": [
    "# Средневзвешенное значение повторных инцидентов"
   ]
  },
  {
   "cell_type": "code",
   "execution_count": null,
   "metadata": {},
   "outputs": [],
   "source": [
    "num_all_inc = int(sum(data_barh.values))\n",
    "doles = [round(float(i / num_all_inc), 4) for i in data_to_draw.values]\n",
    "num_chst = list(data_to_draw.values.ravel())"
   ]
  },
  {
   "cell_type": "code",
   "execution_count": null,
   "metadata": {},
   "outputs": [],
   "source": [
    "sums = 0\n",
    "for i in range(len(num_chst)):\n",
    "    sums += num_chst[i] * doles[i]\n",
    "\n",
    "aver_chast_weight = round(sums / sum(num_chst), 4)"
   ]
  },
  {
   "cell_type": "code",
   "execution_count": null,
   "metadata": {},
   "outputs": [],
   "source": [
    "aver_chast_weight"
   ]
  },
  {
   "cell_type": "markdown",
   "metadata": {},
   "source": [
    "# Комплексная оценка aver_chast_weight = среднее взвешенное значения повторяющихся инцидентов\n",
    "all_repeat_inc - график общей повторяемости инцидентов без учета глоабльного инцидента data_print_all_repeat_inc\n",
    "\n",
    "pie_top_user{idx}.jpg - n пирогов по каждому пользователю"
   ]
  }
 ],
 "metadata": {
  "kernelspec": {
   "display_name": "base",
   "language": "python",
   "name": "python3"
  },
  "language_info": {
   "codemirror_mode": {
    "name": "ipython",
    "version": 3
   },
   "file_extension": ".py",
   "mimetype": "text/x-python",
   "name": "python",
   "nbconvert_exporter": "python",
   "pygments_lexer": "ipython3",
   "version": "3.9.7"
  }
 },
 "nbformat": 4,
 "nbformat_minor": 2
}
